{
 "cells": [
  {
   "cell_type": "code",
   "execution_count": 6,
   "metadata": {},
   "outputs": [
    {
     "name": "stdout",
     "output_type": "stream",
     "text": [
      "Weights:  [0.81 0.81 0.23 0.6  0.13 0.85]\n",
      "Biases:  [0.18 0.48 0.96]\n"
     ]
    }
   ],
   "source": [
    "#initializing the weights and biases\n",
    "import numpy as np\n",
    "weights  = np.around(np.random.uniform(size=6), decimals=2)\n",
    "biases = np.around(np.random.uniform(size=3), decimals=2)\n",
    "print(\"Weights: \", weights)\n",
    "print(\"Biases: \", biases)"
   ]
  },
  {
   "cell_type": "code",
   "execution_count": 4,
   "metadata": {},
   "outputs": [
    {
     "name": "stdout",
     "output_type": "stream",
     "text": [
      "x1 is 0.5 and x2 is 0.85\n"
     ]
    }
   ],
   "source": [
    "#computing the output for a given input\n",
    "x_1 = 0.5\n",
    "x_2 = 0.85\n",
    "print('x1 is {} and x2 is {}'.format(x1, x2))"
   ]
  },
  {
   "cell_type": "code",
   "execution_count": 7,
   "metadata": {},
   "outputs": [
    {
     "name": "stdout",
     "output_type": "stream",
     "text": [
      "the weighted sum of the inputs of the first node in the hidden later is: 1.2735\n"
     ]
    }
   ],
   "source": [
    "z1_1 = x_1 * weights[0] + x_2 * weights[1] + biases[0]\n",
    "print(\"the weighted sum of the inputs of the first node in the hidden later is:\",z1_1)"
   ]
  },
  {
   "cell_type": "code",
   "execution_count": 11,
   "metadata": {},
   "outputs": [
    {
     "name": "stdout",
     "output_type": "stream",
     "text": [
      "the weighted sum of the inputs of the second node in the hidden layer is: 1.105\n"
     ]
    }
   ],
   "source": [
    "#similarly the weighted sum of second node z1_2\n",
    "z1_2 = x_1 * weights[2] + x_2 * weights[3] + biases[1]\n",
    "print(\"the weighted sum of the inputs of the second node in the hidden layer is: {}\".format(np.around(z1_2,decimals=4)))"
   ]
  },
  {
   "cell_type": "code",
   "execution_count": 12,
   "metadata": {},
   "outputs": [
    {
     "name": "stdout",
     "output_type": "stream",
     "text": [
      "the activation of the first node in the hidden layer is: 0.7813 and the second layer is: 0.7512\n"
     ]
    }
   ],
   "source": [
    "#now calculating the activation functions for nodes z1_1 and z1_2 in the hidden layer\n",
    "a1_1 = 1/(1 + np.exp(-z1_1))\n",
    "a1_2 = 1/(1 + np.exp(-z1_2))\n",
    "print(\"the activation of the first node in the hidden layer is: {} and the second layer is: {}\".format(np.around(a1_1, decimals=4), np.around(a1_2, decimals=4)))"
   ]
  },
  {
   "cell_type": "code",
   "execution_count": 14,
   "metadata": {},
   "outputs": [
    {
     "name": "stdout",
     "output_type": "stream",
     "text": [
      "the weighted sum of the inputs of the output layer is: 1.7001\n"
     ]
    }
   ],
   "source": [
    "#these activated functions are the input to the output layer, so we are going to calculate the weighted sum of the inputs of the output layer along with the biases\n",
    "z2= a1_1 * weights[4] + a1_2 * weights[5] + biases[2]\n",
    "print(\"the weighted sum of the inputs of the output layer is: {}\".format(np.around(z2, decimals=4)))"
   ]
  },
  {
   "cell_type": "code",
   "execution_count": 16,
   "metadata": {},
   "outputs": [
    {
     "name": "stdout",
     "output_type": "stream",
     "text": [
      "0.8455465914676572\n"
     ]
    }
   ],
   "source": [
    "#finally lets compute the activation function of the output layer as the output of the neural network\n",
    "a2 = 1/(1 + np.exp(-z2))\n"
   ]
  }
 ],
 "metadata": {
  "kernelspec": {
   "display_name": "Python 3",
   "language": "python",
   "name": "python3"
  },
  "language_info": {
   "codemirror_mode": {
    "name": "ipython",
    "version": 3
   },
   "file_extension": ".py",
   "mimetype": "text/x-python",
   "name": "python",
   "nbconvert_exporter": "python",
   "pygments_lexer": "ipython3",
   "version": "3.13.1"
  }
 },
 "nbformat": 4,
 "nbformat_minor": 2
}
